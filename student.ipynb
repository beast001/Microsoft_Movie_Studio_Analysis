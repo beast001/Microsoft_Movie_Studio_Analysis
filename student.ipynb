{
 "cells": [
  {
   "cell_type": "markdown",
   "metadata": {},
   "source": [
    "![example](images/logo.png)"
   ]
  },
  {
   "cell_type": "markdown",
   "metadata": {},
   "source": [
    "# Microsoft Movie Studio Films Analysis\n",
    "\n",
    "**Author:** Nyaoke Brian Antony\n",
    "* Student pace: Full time\n",
    "* Scheduled project review date/time: 08/22/2022\n",
    "* Instructor name: Antony Muiko \n",
    "* Blog post URL:"
   ]
  },
  {
   "cell_type": "markdown",
   "metadata": {},
   "source": [
    "## Overview\n",
    "This projects analyze the movies datasets from two main online movies databases [IMDB](ww.imdb.com) and [BOX OFFICE](ww.boxofficemojo.com) which contain information about different genres of movies.<br>\n",
    "The growing demand for video content creation shows a trend in increased adoption of certain movie types while other videos seem to perform poorly resulting to losses suffered by the production companies.\n",
    "<p>\n",
    "The datasets are intended to provide a data driven desicon on which type of movies the new Micrsosft Studio should produce to take advantage of the growing video content creation and avoid losses by producing videos that are mostly liked by many since high traffic on a perticuler film has a positive correlation with sales hence high profit margins.\n"
   ]
  },
  {
   "cell_type": "markdown",
   "metadata": {},
   "source": [
    "## Business Problem\n",
    "\n",
    "These two datasets can be able to give us clues on which types of films have high demand to enable the Microsoft Studio team to focus only on a small genre of films with high returns.<br>\n",
    "We can also get a pictur of how different factors such as duration, languages and ratings influence the type of film to produce.<br>\n",
    "These quetions are important since they have a direct effect on the success of the new Microssoft Studio since low sales and poor ratings affect the profits which are essential in keeping the business operational."
   ]
  },
  {
   "cell_type": "markdown",
   "metadata": {},
   "source": [
    "## Data Understanding\n",
    "\n",
    "The data used for these analysis came form two public websites that gather metadata on a particular movie world wide based on \n",
    "user feedback, movie details and production infromation.<br>\n",
    "The tw datasets that will be used for this analysis are:-\n",
    "<ol>\n",
    "  <li>IMDB</li>\n",
    "    This data is contained within a dartabase containing 8 tables.<br>\n",
    "    ``('movie_basics',),\n",
    "      ('directors',),\n",
    "      ('known_for',),\n",
    "      ('movie_akas',),\n",
    "      ('movie_ratings',),\n",
    "     ('persons',),\n",
    "     ('principals',),\n",
    "     ('writers',)``\n",
    "    <br>\n",
    "    We will however mainly use the <strong>Movie_basics</strong> and <strong> Movie_ratings</strong> since they have the relevant data needed for this analysis.<br>\n",
    "  \n",
    "  <li> Box Office</li>\n",
    "    This data is contained within a csv file located in ``zippedData/bom.movie_gross.csv.gz``\n",
    "</ol>\n",
    "This data can be used to determine the best type of videos to produce\n",
    "\n"
   ]
  },
  {
   "cell_type": "code",
   "execution_count": 225,
   "metadata": {},
   "outputs": [],
   "source": [
    "# Import standard packages\n",
    "import pandas as pd\n",
    "import numpy as np\n",
    "import matplotlib.pyplot as plt\n",
    "import matplotlib\n",
    "import seaborn as sns\n",
    "import sqlite3\n",
    "from zipfile import ZipFile\n",
    "%matplotlib inline"
   ]
  },
  {
   "cell_type": "code",
   "execution_count": 226,
   "metadata": {},
   "outputs": [
    {
     "name": "stdout",
     "output_type": "stream",
     "text": [
      "(3387, 5)\n"
     ]
    },
    {
     "data": {
      "text/html": [
       "<div>\n",
       "<style scoped>\n",
       "    .dataframe tbody tr th:only-of-type {\n",
       "        vertical-align: middle;\n",
       "    }\n",
       "\n",
       "    .dataframe tbody tr th {\n",
       "        vertical-align: top;\n",
       "    }\n",
       "\n",
       "    .dataframe thead th {\n",
       "        text-align: right;\n",
       "    }\n",
       "</style>\n",
       "<table border=\"1\" class=\"dataframe\">\n",
       "  <thead>\n",
       "    <tr style=\"text-align: right;\">\n",
       "      <th></th>\n",
       "      <th>title</th>\n",
       "      <th>studio</th>\n",
       "      <th>domestic_gross</th>\n",
       "      <th>foreign_gross</th>\n",
       "      <th>year</th>\n",
       "    </tr>\n",
       "  </thead>\n",
       "  <tbody>\n",
       "    <tr>\n",
       "      <th>0</th>\n",
       "      <td>Toy Story 3</td>\n",
       "      <td>BV</td>\n",
       "      <td>415000000.0</td>\n",
       "      <td>652000000</td>\n",
       "      <td>2010</td>\n",
       "    </tr>\n",
       "    <tr>\n",
       "      <th>1</th>\n",
       "      <td>Alice in Wonderland (2010)</td>\n",
       "      <td>BV</td>\n",
       "      <td>334200000.0</td>\n",
       "      <td>691300000</td>\n",
       "      <td>2010</td>\n",
       "    </tr>\n",
       "    <tr>\n",
       "      <th>2</th>\n",
       "      <td>Harry Potter and the Deathly Hallows Part 1</td>\n",
       "      <td>WB</td>\n",
       "      <td>296000000.0</td>\n",
       "      <td>664300000</td>\n",
       "      <td>2010</td>\n",
       "    </tr>\n",
       "    <tr>\n",
       "      <th>3</th>\n",
       "      <td>Inception</td>\n",
       "      <td>WB</td>\n",
       "      <td>292600000.0</td>\n",
       "      <td>535700000</td>\n",
       "      <td>2010</td>\n",
       "    </tr>\n",
       "    <tr>\n",
       "      <th>4</th>\n",
       "      <td>Shrek Forever After</td>\n",
       "      <td>P/DW</td>\n",
       "      <td>238700000.0</td>\n",
       "      <td>513900000</td>\n",
       "      <td>2010</td>\n",
       "    </tr>\n",
       "  </tbody>\n",
       "</table>\n",
       "</div>"
      ],
      "text/plain": [
       "                                         title studio  domestic_gross  \\\n",
       "0                                  Toy Story 3     BV     415000000.0   \n",
       "1                   Alice in Wonderland (2010)     BV     334200000.0   \n",
       "2  Harry Potter and the Deathly Hallows Part 1     WB     296000000.0   \n",
       "3                                    Inception     WB     292600000.0   \n",
       "4                          Shrek Forever After   P/DW     238700000.0   \n",
       "\n",
       "  foreign_gross  year  \n",
       "0     652000000  2010  \n",
       "1     691300000  2010  \n",
       "2     664300000  2010  \n",
       "3     535700000  2010  \n",
       "4     513900000  2010  "
      ]
     },
     "execution_count": 226,
     "metadata": {},
     "output_type": "execute_result"
    }
   ],
   "source": [
    "# loading the box ofice data\n",
    "bom = pd.read_csv('zippedData/bom.movie_gross.csv.gz')\n",
    "\n",
    "print(bom.shape) # printing the shape of the data to know how many row and columns we are working with\n",
    "bom.head()"
   ]
  },
  {
   "cell_type": "code",
   "execution_count": 227,
   "metadata": {},
   "outputs": [
    {
     "name": "stdout",
     "output_type": "stream",
     "text": [
      "The number of tables in the database is:- 8\n"
     ]
    },
    {
     "data": {
      "text/plain": [
       "[('movie_basics',),\n",
       " ('directors',),\n",
       " ('known_for',),\n",
       " ('movie_akas',),\n",
       " ('movie_ratings',),\n",
       " ('persons',),\n",
       " ('principals',),\n",
       " ('writers',)]"
      ]
     },
     "execution_count": 227,
     "metadata": {},
     "output_type": "execute_result"
    }
   ],
   "source": [
    "#unzip the database file from the compression folder\n",
    "imdb_zip = ZipFile('zippedData/im.db.zip')\n",
    "imdb_zip.extractall('imdb')\n",
    "imdb_zip.close()\n",
    "\n",
    "#create a databse connection to the imdb database\n",
    "conn = sqlite3.connect('imdb/im.db')\n",
    "cur = conn.cursor()\n",
    "\n",
    "#view the number of tables and their names in the database in the database\n",
    "cur.execute(\"\"\"SELECT \n",
    "               name FROM sqlite_master WHERE type = 'table'\"\"\")\n",
    "imdb_table_names = cur.fetchall() \n",
    "print('The number of tables in the database is:-', len(imdb_table_names))\n",
    "imdb_table_names"
   ]
  },
  {
   "cell_type": "code",
   "execution_count": 228,
   "metadata": {},
   "outputs": [],
   "source": [
    "# function to view data in the 8 tables to know what each table contains.\n",
    "def imdb_table_contend(table_name):\n",
    "    sql = \"\"\"SELECT * FROM {};\"\"\".format(table_name)\n",
    "    table_data = pd.read_sql(sql,conn)\n",
    "    print('Table Name :-', table_name.upper(),'Has a shape of' ,table_data.shape)\n",
    "    print('')\n",
    "    print('Cecking for null columns')\n",
    "    print(table_data.info())\n",
    "    print('')\n",
    "    return table_data.head()\n",
    "    \n",
    "\n",
    "    \n",
    "  "
   ]
  },
  {
   "cell_type": "code",
   "execution_count": 229,
   "metadata": {},
   "outputs": [
    {
     "name": "stdout",
     "output_type": "stream",
     "text": [
      "Table Name :- MOVIE_BASICS Has a shape of (146144, 6)\n",
      "\n",
      "Cecking for null columns\n",
      "<class 'pandas.core.frame.DataFrame'>\n",
      "RangeIndex: 146144 entries, 0 to 146143\n",
      "Data columns (total 6 columns):\n",
      " #   Column           Non-Null Count   Dtype  \n",
      "---  ------           --------------   -----  \n",
      " 0   movie_id         146144 non-null  object \n",
      " 1   primary_title    146144 non-null  object \n",
      " 2   original_title   146123 non-null  object \n",
      " 3   start_year       146144 non-null  int64  \n",
      " 4   runtime_minutes  114405 non-null  float64\n",
      " 5   genres           140736 non-null  object \n",
      "dtypes: float64(1), int64(1), object(4)\n",
      "memory usage: 6.7+ MB\n",
      "None\n",
      "\n"
     ]
    },
    {
     "data": {
      "text/html": [
       "<div>\n",
       "<style scoped>\n",
       "    .dataframe tbody tr th:only-of-type {\n",
       "        vertical-align: middle;\n",
       "    }\n",
       "\n",
       "    .dataframe tbody tr th {\n",
       "        vertical-align: top;\n",
       "    }\n",
       "\n",
       "    .dataframe thead th {\n",
       "        text-align: right;\n",
       "    }\n",
       "</style>\n",
       "<table border=\"1\" class=\"dataframe\">\n",
       "  <thead>\n",
       "    <tr style=\"text-align: right;\">\n",
       "      <th></th>\n",
       "      <th>movie_id</th>\n",
       "      <th>primary_title</th>\n",
       "      <th>original_title</th>\n",
       "      <th>start_year</th>\n",
       "      <th>runtime_minutes</th>\n",
       "      <th>genres</th>\n",
       "    </tr>\n",
       "  </thead>\n",
       "  <tbody>\n",
       "    <tr>\n",
       "      <th>0</th>\n",
       "      <td>tt0063540</td>\n",
       "      <td>Sunghursh</td>\n",
       "      <td>Sunghursh</td>\n",
       "      <td>2013</td>\n",
       "      <td>175.0</td>\n",
       "      <td>Action,Crime,Drama</td>\n",
       "    </tr>\n",
       "    <tr>\n",
       "      <th>1</th>\n",
       "      <td>tt0066787</td>\n",
       "      <td>One Day Before the Rainy Season</td>\n",
       "      <td>Ashad Ka Ek Din</td>\n",
       "      <td>2019</td>\n",
       "      <td>114.0</td>\n",
       "      <td>Biography,Drama</td>\n",
       "    </tr>\n",
       "    <tr>\n",
       "      <th>2</th>\n",
       "      <td>tt0069049</td>\n",
       "      <td>The Other Side of the Wind</td>\n",
       "      <td>The Other Side of the Wind</td>\n",
       "      <td>2018</td>\n",
       "      <td>122.0</td>\n",
       "      <td>Drama</td>\n",
       "    </tr>\n",
       "    <tr>\n",
       "      <th>3</th>\n",
       "      <td>tt0069204</td>\n",
       "      <td>Sabse Bada Sukh</td>\n",
       "      <td>Sabse Bada Sukh</td>\n",
       "      <td>2018</td>\n",
       "      <td>NaN</td>\n",
       "      <td>Comedy,Drama</td>\n",
       "    </tr>\n",
       "    <tr>\n",
       "      <th>4</th>\n",
       "      <td>tt0100275</td>\n",
       "      <td>The Wandering Soap Opera</td>\n",
       "      <td>La Telenovela Errante</td>\n",
       "      <td>2017</td>\n",
       "      <td>80.0</td>\n",
       "      <td>Comedy,Drama,Fantasy</td>\n",
       "    </tr>\n",
       "  </tbody>\n",
       "</table>\n",
       "</div>"
      ],
      "text/plain": [
       "    movie_id                    primary_title              original_title  \\\n",
       "0  tt0063540                        Sunghursh                   Sunghursh   \n",
       "1  tt0066787  One Day Before the Rainy Season             Ashad Ka Ek Din   \n",
       "2  tt0069049       The Other Side of the Wind  The Other Side of the Wind   \n",
       "3  tt0069204                  Sabse Bada Sukh             Sabse Bada Sukh   \n",
       "4  tt0100275         The Wandering Soap Opera       La Telenovela Errante   \n",
       "\n",
       "   start_year  runtime_minutes                genres  \n",
       "0        2013            175.0    Action,Crime,Drama  \n",
       "1        2019            114.0       Biography,Drama  \n",
       "2        2018            122.0                 Drama  \n",
       "3        2018              NaN          Comedy,Drama  \n",
       "4        2017             80.0  Comedy,Drama,Fantasy  "
      ]
     },
     "execution_count": 229,
     "metadata": {},
     "output_type": "execute_result"
    }
   ],
   "source": [
    "#view the Movies_basic table info\n",
    "imdb_table_contend('movie_basics')  "
   ]
  },
  {
   "cell_type": "code",
   "execution_count": 230,
   "metadata": {},
   "outputs": [
    {
     "name": "stdout",
     "output_type": "stream",
     "text": [
      "Table Name :- MOVIE_RATINGS Has a shape of (73856, 3)\n",
      "\n",
      "Cecking for null columns\n",
      "<class 'pandas.core.frame.DataFrame'>\n",
      "RangeIndex: 73856 entries, 0 to 73855\n",
      "Data columns (total 3 columns):\n",
      " #   Column         Non-Null Count  Dtype  \n",
      "---  ------         --------------  -----  \n",
      " 0   movie_id       73856 non-null  object \n",
      " 1   averagerating  73856 non-null  float64\n",
      " 2   numvotes       73856 non-null  int64  \n",
      "dtypes: float64(1), int64(1), object(1)\n",
      "memory usage: 1.7+ MB\n",
      "None\n",
      "\n"
     ]
    },
    {
     "data": {
      "text/html": [
       "<div>\n",
       "<style scoped>\n",
       "    .dataframe tbody tr th:only-of-type {\n",
       "        vertical-align: middle;\n",
       "    }\n",
       "\n",
       "    .dataframe tbody tr th {\n",
       "        vertical-align: top;\n",
       "    }\n",
       "\n",
       "    .dataframe thead th {\n",
       "        text-align: right;\n",
       "    }\n",
       "</style>\n",
       "<table border=\"1\" class=\"dataframe\">\n",
       "  <thead>\n",
       "    <tr style=\"text-align: right;\">\n",
       "      <th></th>\n",
       "      <th>movie_id</th>\n",
       "      <th>averagerating</th>\n",
       "      <th>numvotes</th>\n",
       "    </tr>\n",
       "  </thead>\n",
       "  <tbody>\n",
       "    <tr>\n",
       "      <th>0</th>\n",
       "      <td>tt10356526</td>\n",
       "      <td>8.3</td>\n",
       "      <td>31</td>\n",
       "    </tr>\n",
       "    <tr>\n",
       "      <th>1</th>\n",
       "      <td>tt10384606</td>\n",
       "      <td>8.9</td>\n",
       "      <td>559</td>\n",
       "    </tr>\n",
       "    <tr>\n",
       "      <th>2</th>\n",
       "      <td>tt1042974</td>\n",
       "      <td>6.4</td>\n",
       "      <td>20</td>\n",
       "    </tr>\n",
       "    <tr>\n",
       "      <th>3</th>\n",
       "      <td>tt1043726</td>\n",
       "      <td>4.2</td>\n",
       "      <td>50352</td>\n",
       "    </tr>\n",
       "    <tr>\n",
       "      <th>4</th>\n",
       "      <td>tt1060240</td>\n",
       "      <td>6.5</td>\n",
       "      <td>21</td>\n",
       "    </tr>\n",
       "  </tbody>\n",
       "</table>\n",
       "</div>"
      ],
      "text/plain": [
       "     movie_id  averagerating  numvotes\n",
       "0  tt10356526            8.3        31\n",
       "1  tt10384606            8.9       559\n",
       "2   tt1042974            6.4        20\n",
       "3   tt1043726            4.2     50352\n",
       "4   tt1060240            6.5        21"
      ]
     },
     "execution_count": 230,
     "metadata": {},
     "output_type": "execute_result"
    }
   ],
   "source": [
    "#view the Movies_ratings table info\n",
    "imdb_table_contend('movie_ratings')  "
   ]
  },
  {
   "cell_type": "markdown",
   "metadata": {},
   "source": [
    "# Data Preparation\n",
    "\n",
    "From the result of movie_basics and movie_ratings table one can clearly see that the the two tables are related by the movie id column an can therefor be joined to form one table but the number of rows differ hnce some data will be lost depending on the type of join used.<br>\n",
    "   \n",
    "Left joining the movie_basics table top the movie_rating table will result into a reduction on the number of rows since some movies in the movies basic table have no rating. Without the ratings the movies basic table has does not offer much to analyze according to our problem statement.\n",
    "\n",
    "Describe and justify the process for preparing the data for analysis.\n",
    "\n",
    "***\n",
    "Questions to consider:\n",
    "* Were there variables you dropped or created?\n",
    "* How did you address missing values or outliers?\n",
    "* Why are these choices appropriate given the data and the business problem?\n",
    "***"
   ]
  },
  {
   "cell_type": "code",
   "execution_count": 231,
   "metadata": {},
   "outputs": [
    {
     "data": {
      "text/html": [
       "<div>\n",
       "<style scoped>\n",
       "    .dataframe tbody tr th:only-of-type {\n",
       "        vertical-align: middle;\n",
       "    }\n",
       "\n",
       "    .dataframe tbody tr th {\n",
       "        vertical-align: top;\n",
       "    }\n",
       "\n",
       "    .dataframe thead th {\n",
       "        text-align: right;\n",
       "    }\n",
       "</style>\n",
       "<table border=\"1\" class=\"dataframe\">\n",
       "  <thead>\n",
       "    <tr style=\"text-align: right;\">\n",
       "      <th></th>\n",
       "      <th>movie_id</th>\n",
       "      <th>averagerating</th>\n",
       "      <th>numvotes</th>\n",
       "      <th>primary_title</th>\n",
       "      <th>original_title</th>\n",
       "      <th>start_year</th>\n",
       "      <th>runtime_minutes</th>\n",
       "      <th>genres</th>\n",
       "    </tr>\n",
       "  </thead>\n",
       "  <tbody>\n",
       "    <tr>\n",
       "      <th>0</th>\n",
       "      <td>tt10356526</td>\n",
       "      <td>8.3</td>\n",
       "      <td>31</td>\n",
       "      <td>Laiye Je Yaarian</td>\n",
       "      <td>Laiye Je Yaarian</td>\n",
       "      <td>2019</td>\n",
       "      <td>117.0</td>\n",
       "      <td>Romance</td>\n",
       "    </tr>\n",
       "    <tr>\n",
       "      <th>1</th>\n",
       "      <td>tt10384606</td>\n",
       "      <td>8.9</td>\n",
       "      <td>559</td>\n",
       "      <td>Borderless</td>\n",
       "      <td>Borderless</td>\n",
       "      <td>2019</td>\n",
       "      <td>87.0</td>\n",
       "      <td>Documentary</td>\n",
       "    </tr>\n",
       "    <tr>\n",
       "      <th>2</th>\n",
       "      <td>tt1042974</td>\n",
       "      <td>6.4</td>\n",
       "      <td>20</td>\n",
       "      <td>Just Inès</td>\n",
       "      <td>Just Inès</td>\n",
       "      <td>2010</td>\n",
       "      <td>90.0</td>\n",
       "      <td>Drama</td>\n",
       "    </tr>\n",
       "    <tr>\n",
       "      <th>3</th>\n",
       "      <td>tt1043726</td>\n",
       "      <td>4.2</td>\n",
       "      <td>50352</td>\n",
       "      <td>The Legend of Hercules</td>\n",
       "      <td>The Legend of Hercules</td>\n",
       "      <td>2014</td>\n",
       "      <td>99.0</td>\n",
       "      <td>Action,Adventure,Fantasy</td>\n",
       "    </tr>\n",
       "    <tr>\n",
       "      <th>4</th>\n",
       "      <td>tt1060240</td>\n",
       "      <td>6.5</td>\n",
       "      <td>21</td>\n",
       "      <td>Até Onde?</td>\n",
       "      <td>Até Onde?</td>\n",
       "      <td>2011</td>\n",
       "      <td>73.0</td>\n",
       "      <td>Mystery,Thriller</td>\n",
       "    </tr>\n",
       "  </tbody>\n",
       "</table>\n",
       "</div>"
      ],
      "text/plain": [
       "     movie_id  averagerating  numvotes           primary_title  \\\n",
       "0  tt10356526            8.3        31        Laiye Je Yaarian   \n",
       "1  tt10384606            8.9       559              Borderless   \n",
       "2   tt1042974            6.4        20               Just Inès   \n",
       "3   tt1043726            4.2     50352  The Legend of Hercules   \n",
       "4   tt1060240            6.5        21               Até Onde?   \n",
       "\n",
       "           original_title  start_year  runtime_minutes  \\\n",
       "0        Laiye Je Yaarian        2019            117.0   \n",
       "1              Borderless        2019             87.0   \n",
       "2               Just Inès        2010             90.0   \n",
       "3  The Legend of Hercules        2014             99.0   \n",
       "4               Até Onde?        2011             73.0   \n",
       "\n",
       "                     genres  \n",
       "0                   Romance  \n",
       "1               Documentary  \n",
       "2                     Drama  \n",
       "3  Action,Adventure,Fantasy  \n",
       "4          Mystery,Thriller  "
      ]
     },
     "execution_count": 231,
     "metadata": {},
     "output_type": "execute_result"
    }
   ],
   "source": [
    "#joining movie_basic table and movies_rating table\n",
    "sql = \"\"\"\n",
    "        SELECT * \n",
    "        FROM movie_ratings \n",
    "        LEFT JOIN movie_basics\n",
    "        USING(movie_id);\n",
    "\"\"\"\n",
    "imdb_joined = pd.read_sql(sql,conn)\n",
    "imdb_joined.head()"
   ]
  },
  {
   "cell_type": "code",
   "execution_count": 232,
   "metadata": {},
   "outputs": [
    {
     "data": {
      "text/html": [
       "<div>\n",
       "<style scoped>\n",
       "    .dataframe tbody tr th:only-of-type {\n",
       "        vertical-align: middle;\n",
       "    }\n",
       "\n",
       "    .dataframe tbody tr th {\n",
       "        vertical-align: top;\n",
       "    }\n",
       "\n",
       "    .dataframe thead th {\n",
       "        text-align: right;\n",
       "    }\n",
       "</style>\n",
       "<table border=\"1\" class=\"dataframe\">\n",
       "  <thead>\n",
       "    <tr style=\"text-align: right;\">\n",
       "      <th></th>\n",
       "      <th>movie_id</th>\n",
       "      <th>averagerating</th>\n",
       "      <th>numvotes</th>\n",
       "      <th>primary_title</th>\n",
       "      <th>original_title</th>\n",
       "      <th>start_year</th>\n",
       "      <th>runtime_minutes</th>\n",
       "      <th>genres</th>\n",
       "    </tr>\n",
       "  </thead>\n",
       "  <tbody>\n",
       "  </tbody>\n",
       "</table>\n",
       "</div>"
      ],
      "text/plain": [
       "Empty DataFrame\n",
       "Columns: [movie_id, averagerating, numvotes, primary_title, original_title, start_year, runtime_minutes, genres]\n",
       "Index: []"
      ]
     },
     "execution_count": 232,
     "metadata": {},
     "output_type": "execute_result"
    }
   ],
   "source": [
    "#check for dublicates\n",
    "duplicates = imdb_joined[imdb_joined.duplicated()]\n",
    "duplicates #the resulting code indicates no dublicate in our data"
   ]
  },
  {
   "cell_type": "code",
   "execution_count": 233,
   "metadata": {},
   "outputs": [
    {
     "data": {
      "text/plain": [
       "movie_id              0\n",
       "averagerating         0\n",
       "numvotes              0\n",
       "primary_title         0\n",
       "original_title        0\n",
       "start_year            0\n",
       "runtime_minutes    7620\n",
       "genres              804\n",
       "dtype: int64"
      ]
     },
     "execution_count": 233,
     "metadata": {},
     "output_type": "execute_result"
    }
   ],
   "source": [
    "#Checking for null values in the nee joined IMDB JOINED  table\n",
    "imdb_joined.isna().sum()"
   ]
  },
  {
   "cell_type": "markdown",
   "metadata": {},
   "source": [
    "The runtime_minutes column and genres has missing values with runtime having the highest number of missing values"
   ]
  },
  {
   "cell_type": "code",
   "execution_count": 234,
   "metadata": {},
   "outputs": [
    {
     "name": "stdout",
     "output_type": "stream",
     "text": [
      "number of unique genres:- 924\n"
     ]
    },
    {
     "data": {
      "text/plain": [
       "Drama                           11612\n",
       "Documentary                     10313\n",
       "Comedy                           5613\n",
       "Horror                           2692\n",
       "Comedy,Drama                     2617\n",
       "                                ...  \n",
       "Horror,Musical,Romance              1\n",
       "Adventure,Fantasy,War               1\n",
       "Action,Musical,Romance              1\n",
       "Adventure,Romance,Sport             1\n",
       "Adventure,Documentary,Sci-Fi        1\n",
       "Name: genres, Length: 923, dtype: int64"
      ]
     },
     "execution_count": 234,
     "metadata": {},
     "output_type": "execute_result"
    }
   ],
   "source": [
    "#view the genres category counts\n",
    "print('number of unique genres:-', len(imdb_joined['genres'].unique()))\n",
    "imdb_joined['genres'].value_counts()"
   ]
  },
  {
   "cell_type": "markdown",
   "metadata": {},
   "source": [
    "It is really difficult to figur out which genre the a movie falls to fill the movies with the missing genres since if we fill it with the genre with the highest count will have an effect on the accuracy of our analysis since there are many different genres with huge difference in count.<br>\n",
    "Its therfor better to delete all the movies without the genres completely from the dataset.\n"
   ]
  },
  {
   "cell_type": "code",
   "execution_count": 235,
   "metadata": {},
   "outputs": [
    {
     "data": {
      "text/plain": [
       "movie_id              0\n",
       "averagerating         0\n",
       "numvotes              0\n",
       "primary_title         0\n",
       "original_title        0\n",
       "start_year            0\n",
       "runtime_minutes    7332\n",
       "genres                0\n",
       "dtype: int64"
      ]
     },
     "execution_count": 235,
     "metadata": {},
     "output_type": "execute_result"
    }
   ],
   "source": [
    "#deleting movies with no genres from our data set\n",
    "imdb_joined = imdb_joined.dropna(subset=['genres'])\n",
    "imdb_joined.isna().sum()"
   ]
  },
  {
   "cell_type": "markdown",
   "metadata": {},
   "source": [
    "Perfect now our data has only missing values in runtime_minutes alone which is a numerical column and this can be filled by either the mean or the mode.<br>\n",
    "Lets see the distributioin of the runtime in a histogram to deside onif to fill it with a measure of central tendancy value of delete them entirely too."
   ]
  },
  {
   "cell_type": "code",
   "execution_count": 236,
   "metadata": {},
   "outputs": [
    {
     "data": {
      "text/plain": [
       "count    65720.000000\n",
       "mean        94.732273\n",
       "std        209.377017\n",
       "min          3.000000\n",
       "25%         81.000000\n",
       "50%         91.000000\n",
       "75%        104.000000\n",
       "max      51420.000000\n",
       "Name: runtime_minutes, dtype: float64"
      ]
     },
     "execution_count": 236,
     "metadata": {},
     "output_type": "execute_result"
    }
   ],
   "source": [
    "imdb_joined['runtime_minutes'].describe()"
   ]
  },
  {
   "cell_type": "markdown",
   "metadata": {},
   "source": [
    "There seem to be outliers in our data since the sortest runtime and the longest runtime have greater from the 25 and 75 percentile rspectively but we cant delet them because dome long runtime may be of long documentaries that must not be ignores from our analysis.<br>\n",
    "We will therefor fill the missing runtimes with the median value since they are too many to delete a factor which can lead to loss of critical information from our data and the median value is less sennsitive to outliers"
   ]
  },
  {
   "cell_type": "code",
   "execution_count": 237,
   "metadata": {},
   "outputs": [],
   "source": [
    "imdb_joined['runtime_minutes'].fillna(imdb_joined['runtime_minutes'].median(),inplace=True)\n"
   ]
  },
  {
   "cell_type": "code",
   "execution_count": 238,
   "metadata": {},
   "outputs": [
    {
     "data": {
      "text/plain": [
       "movie_id           0\n",
       "averagerating      0\n",
       "numvotes           0\n",
       "primary_title      0\n",
       "original_title     0\n",
       "start_year         0\n",
       "runtime_minutes    0\n",
       "genres             0\n",
       "dtype: int64"
      ]
     },
     "execution_count": 238,
     "metadata": {},
     "output_type": "execute_result"
    }
   ],
   "source": [
    "imdb_joined.isna().sum()"
   ]
  },
  {
   "cell_type": "code",
   "execution_count": 316,
   "metadata": {},
   "outputs": [
    {
     "data": {
      "image/png": "[encoded data removed]",
      "text/plain": [
       "<Figure size 432x288 with 2 Axes>"
      ]
     },
     "metadata": {
      "needs_background": "light"
     },
     "output_type": "display_data"
    }
   ],
   "source": [
    "#correlation in the IMDB tables alone\n",
    "matrix = imdb_joined.corr()\n",
    "mask = np.triu(np.ones_like(matrix, dtype=bool))\n",
    "sns.heatmap(matrix, annot=True, vmax=1, vmin=-1, center=0, cmap='vlag', mask=mask)\n",
    "plt.show()"
   ]
  },
  {
   "cell_type": "markdown",
   "metadata": {},
   "source": [
    "There sem to not be much correlation in the dataset at this point except FOr the number of votes and year which still seem to be a realy weak corellation "
   ]
  },
  {
   "cell_type": "markdown",
   "metadata": {},
   "source": [
    "There are no null values now in our bom dataset and our dataset is now clean.<br>\n",
    "Lets bring in the bom dataset and clean it up to marge with the IMDB dataset to see how revenue both foreighn and domestic gross capital are influesnced."
   ]
  },
  {
   "cell_type": "code",
   "execution_count": 239,
   "metadata": {},
   "outputs": [
    {
     "data": {
      "text/plain": [
       "title                0\n",
       "studio               5\n",
       "domestic_gross      28\n",
       "foreign_gross     1350\n",
       "year                 0\n",
       "dtype: int64"
      ]
     },
     "execution_count": 239,
     "metadata": {},
     "output_type": "execute_result"
    }
   ],
   "source": [
    "#check for null values\n",
    "bom.isna().sum()"
   ]
  },
  {
   "cell_type": "code",
   "execution_count": 240,
   "metadata": {},
   "outputs": [],
   "source": [
    "#Removing null values from the bom data set to combine it with the joind IMDB data set to see how revenue is affected by movie genres\n",
    "bom.dropna(inplace=True)"
   ]
  },
  {
   "cell_type": "code",
   "execution_count": 241,
   "metadata": {},
   "outputs": [
    {
     "data": {
      "text/plain": [
       "title             0\n",
       "studio            0\n",
       "domestic_gross    0\n",
       "foreign_gross     0\n",
       "year              0\n",
       "dtype: int64"
      ]
     },
     "execution_count": 241,
     "metadata": {},
     "output_type": "execute_result"
    }
   ],
   "source": [
    "bom.isna().sum()"
   ]
  },
  {
   "cell_type": "code",
   "execution_count": 242,
   "metadata": {},
   "outputs": [
    {
     "data": {
      "text/html": [
       "<div>\n",
       "<style scoped>\n",
       "    .dataframe tbody tr th:only-of-type {\n",
       "        vertical-align: middle;\n",
       "    }\n",
       "\n",
       "    .dataframe tbody tr th {\n",
       "        vertical-align: top;\n",
       "    }\n",
       "\n",
       "    .dataframe thead th {\n",
       "        text-align: right;\n",
       "    }\n",
       "</style>\n",
       "<table border=\"1\" class=\"dataframe\">\n",
       "  <thead>\n",
       "    <tr style=\"text-align: right;\">\n",
       "      <th></th>\n",
       "      <th>title</th>\n",
       "      <th>studio</th>\n",
       "      <th>domestic_gross</th>\n",
       "      <th>foreign_gross</th>\n",
       "      <th>year</th>\n",
       "      <th>movie_id</th>\n",
       "      <th>averagerating</th>\n",
       "      <th>numvotes</th>\n",
       "      <th>start_year</th>\n",
       "      <th>runtime_minutes</th>\n",
       "      <th>genres</th>\n",
       "    </tr>\n",
       "  </thead>\n",
       "  <tbody>\n",
       "    <tr>\n",
       "      <th>0</th>\n",
       "      <td>Toy Story 3</td>\n",
       "      <td>BV</td>\n",
       "      <td>415000000.0</td>\n",
       "      <td>652000000</td>\n",
       "      <td>2010</td>\n",
       "      <td>tt0435761</td>\n",
       "      <td>8.3</td>\n",
       "      <td>682218</td>\n",
       "      <td>2010</td>\n",
       "      <td>103.0</td>\n",
       "      <td>Adventure,Animation,Comedy</td>\n",
       "    </tr>\n",
       "    <tr>\n",
       "      <th>1</th>\n",
       "      <td>Inception</td>\n",
       "      <td>WB</td>\n",
       "      <td>292600000.0</td>\n",
       "      <td>535700000</td>\n",
       "      <td>2010</td>\n",
       "      <td>tt1375666</td>\n",
       "      <td>8.8</td>\n",
       "      <td>1841066</td>\n",
       "      <td>2010</td>\n",
       "      <td>148.0</td>\n",
       "      <td>Action,Adventure,Sci-Fi</td>\n",
       "    </tr>\n",
       "    <tr>\n",
       "      <th>2</th>\n",
       "      <td>Shrek Forever After</td>\n",
       "      <td>P/DW</td>\n",
       "      <td>238700000.0</td>\n",
       "      <td>513900000</td>\n",
       "      <td>2010</td>\n",
       "      <td>tt0892791</td>\n",
       "      <td>6.3</td>\n",
       "      <td>167532</td>\n",
       "      <td>2010</td>\n",
       "      <td>93.0</td>\n",
       "      <td>Adventure,Animation,Comedy</td>\n",
       "    </tr>\n",
       "  </tbody>\n",
       "</table>\n",
       "</div>"
      ],
      "text/plain": [
       "                 title studio  domestic_gross foreign_gross  year   movie_id  \\\n",
       "0          Toy Story 3     BV     415000000.0     652000000  2010  tt0435761   \n",
       "1            Inception     WB     292600000.0     535700000  2010  tt1375666   \n",
       "2  Shrek Forever After   P/DW     238700000.0     513900000  2010  tt0892791   \n",
       "\n",
       "   averagerating  numvotes  start_year  runtime_minutes  \\\n",
       "0            8.3    682218        2010            103.0   \n",
       "1            8.8   1841066        2010            148.0   \n",
       "2            6.3    167532        2010             93.0   \n",
       "\n",
       "                       genres  \n",
       "0  Adventure,Animation,Comedy  \n",
       "1     Action,Adventure,Sci-Fi  \n",
       "2  Adventure,Animation,Comedy  "
      ]
     },
     "execution_count": 242,
     "metadata": {},
     "output_type": "execute_result"
    }
   ],
   "source": [
    "#joining bom data set and the IMDB dataset\n",
    "omdb_title = imdb_joined\n",
    "omdb_title['title'] = omdb_title['original_title']\n",
    "omdb_title=omdb_title.drop(['original_title','primary_title'], axis=1)\n",
    "bom_joined = pd.merge(bom, omdb_title, on='title', how='inner')\n",
    "bom_joined.head(3)"
   ]
  },
  {
   "cell_type": "code",
   "execution_count": 313,
   "metadata": {},
   "outputs": [
    {
     "data": {
      "image/png": "[encoded data removed]",
      "text/plain": [
       "<Figure size 432x288 with 2 Axes>"
      ]
     },
     "metadata": {
      "needs_background": "light"
     },
     "output_type": "display_data"
    }
   ],
   "source": [
    "#Crrelation after joining the data\n",
    "matrix = bom_joined.corr()\n",
    "mask = np.triu(np.ones_like(matrix, dtype=bool))\n",
    "sns.heatmap(matrix, annot=True, vmax=1, vmin=-1, center=0, cmap='vlag', mask=mask)\n",
    "plt.show()"
   ]
  },
  {
   "cell_type": "markdown",
   "metadata": {},
   "source": [
    "### The correlation between number of votes and year however the correlation between the years dont seem to give us much on the problem we are trying to solve here."
   ]
  },
  {
   "cell_type": "code",
   "execution_count": 319,
   "metadata": {},
   "outputs": [
    {
     "data": {
      "image/png": "[encoded data removed]",
      "text/plain": [
       "<Figure size 720x576 with 1 Axes>"
      ]
     },
     "metadata": {
      "needs_background": "light"
     },
     "output_type": "display_data"
    }
   ],
   "source": [
    "#correlation between the number of votes and the domestic gross mergin\n",
    "x= bom_joined['numvotes']/1000\n",
    "y = bom_joined['domestic_gross']/1000\n",
    "vote_fig, ax = plt.subplots(figsize=(10, 8))\n",
    "ax.scatter(x,y)\n",
    "ax.set_title(\"Correlation between the number of votes and domestic gross\")\n",
    "ax.set_xlabel(\"Number Of Votes\");\n",
    "ax.set_ylabel(\"Domestic gross\");\n"
   ]
  },
  {
   "cell_type": "markdown",
   "metadata": {},
   "source": [
    "There seem to be a positive correlation between the domestic gros amount and the number of votes<br>\n",
    "Lets fint out how these two values affect the genres in the data models below"
   ]
  },
  {
   "cell_type": "markdown",
   "metadata": {},
   "source": [
    "## Data Modeling\n",
    "The numvotes column in the joined imdb column indicates the number of people who liked a perticular movie meanig if we group the data by genre and sum the number of votes in the numvotes column we can get a scence of the type of movies most people like and dislilke\n"
   ]
  },
  {
   "cell_type": "code",
   "execution_count": 261,
   "metadata": {},
   "outputs": [
    {
     "data": {
      "text/html": [
       "<div>\n",
       "<style scoped>\n",
       "    .dataframe tbody tr th:only-of-type {\n",
       "        vertical-align: middle;\n",
       "    }\n",
       "\n",
       "    .dataframe tbody tr th {\n",
       "        vertical-align: top;\n",
       "    }\n",
       "\n",
       "    .dataframe thead th {\n",
       "        text-align: right;\n",
       "    }\n",
       "</style>\n",
       "<table border=\"1\" class=\"dataframe\">\n",
       "  <thead>\n",
       "    <tr style=\"text-align: right;\">\n",
       "      <th></th>\n",
       "      <th>averagerating</th>\n",
       "      <th>numvotes</th>\n",
       "      <th>start_year</th>\n",
       "      <th>runtime_minutes</th>\n",
       "    </tr>\n",
       "    <tr>\n",
       "      <th>genres</th>\n",
       "      <th></th>\n",
       "      <th></th>\n",
       "      <th></th>\n",
       "      <th></th>\n",
       "    </tr>\n",
       "  </thead>\n",
       "  <tbody>\n",
       "    <tr>\n",
       "      <th>Action,Adventure,Sci-Fi</th>\n",
       "      <td>718.3</td>\n",
       "      <td>23023248</td>\n",
       "      <td>255849</td>\n",
       "      <td>13718.0</td>\n",
       "    </tr>\n",
       "    <tr>\n",
       "      <th>Action,Adventure,Fantasy</th>\n",
       "      <td>553.3</td>\n",
       "      <td>9658883</td>\n",
       "      <td>207497</td>\n",
       "      <td>11105.0</td>\n",
       "    </tr>\n",
       "    <tr>\n",
       "      <th>Adventure,Animation,Comedy</th>\n",
       "      <td>1412.9</td>\n",
       "      <td>8687435</td>\n",
       "      <td>479535</td>\n",
       "      <td>21061.0</td>\n",
       "    </tr>\n",
       "    <tr>\n",
       "      <th>Drama</th>\n",
       "      <td>75411.4</td>\n",
       "      <td>8395521</td>\n",
       "      <td>23389743</td>\n",
       "      <td>1124283.0</td>\n",
       "    </tr>\n",
       "    <tr>\n",
       "      <th>Comedy,Drama,Romance</th>\n",
       "      <td>7601.3</td>\n",
       "      <td>7665463</td>\n",
       "      <td>2432855</td>\n",
       "      <td>120841.0</td>\n",
       "    </tr>\n",
       "    <tr>\n",
       "      <th>...</th>\n",
       "      <td>...</td>\n",
       "      <td>...</td>\n",
       "      <td>...</td>\n",
       "      <td>...</td>\n",
       "    </tr>\n",
       "    <tr>\n",
       "      <th>Family,War</th>\n",
       "      <td>5.8</td>\n",
       "      <td>5</td>\n",
       "      <td>2019</td>\n",
       "      <td>91.0</td>\n",
       "    </tr>\n",
       "    <tr>\n",
       "      <th>Music,Mystery</th>\n",
       "      <td>9.0</td>\n",
       "      <td>5</td>\n",
       "      <td>2012</td>\n",
       "      <td>91.0</td>\n",
       "    </tr>\n",
       "    <tr>\n",
       "      <th>Action,Documentary,Horror</th>\n",
       "      <td>6.4</td>\n",
       "      <td>5</td>\n",
       "      <td>2015</td>\n",
       "      <td>74.0</td>\n",
       "    </tr>\n",
       "    <tr>\n",
       "      <th>Comedy,Documentary,Fantasy</th>\n",
       "      <td>9.4</td>\n",
       "      <td>5</td>\n",
       "      <td>2015</td>\n",
       "      <td>70.0</td>\n",
       "    </tr>\n",
       "    <tr>\n",
       "      <th>History,Sport</th>\n",
       "      <td>9.2</td>\n",
       "      <td>5</td>\n",
       "      <td>2016</td>\n",
       "      <td>91.0</td>\n",
       "    </tr>\n",
       "  </tbody>\n",
       "</table>\n",
       "<p>923 rows × 4 columns</p>\n",
       "</div>"
      ],
      "text/plain": [
       "                            averagerating  numvotes  start_year  \\\n",
       "genres                                                            \n",
       "Action,Adventure,Sci-Fi             718.3  23023248      255849   \n",
       "Action,Adventure,Fantasy            553.3   9658883      207497   \n",
       "Adventure,Animation,Comedy         1412.9   8687435      479535   \n",
       "Drama                             75411.4   8395521    23389743   \n",
       "Comedy,Drama,Romance               7601.3   7665463     2432855   \n",
       "...                                   ...       ...         ...   \n",
       "Family,War                            5.8         5        2019   \n",
       "Music,Mystery                         9.0         5        2012   \n",
       "Action,Documentary,Horror             6.4         5        2015   \n",
       "Comedy,Documentary,Fantasy            9.4         5        2015   \n",
       "History,Sport                         9.2         5        2016   \n",
       "\n",
       "                            runtime_minutes  \n",
       "genres                                       \n",
       "Action,Adventure,Sci-Fi             13718.0  \n",
       "Action,Adventure,Fantasy            11105.0  \n",
       "Adventure,Animation,Comedy          21061.0  \n",
       "Drama                             1124283.0  \n",
       "Comedy,Drama,Romance               120841.0  \n",
       "...                                     ...  \n",
       "Family,War                             91.0  \n",
       "Music,Mystery                          91.0  \n",
       "Action,Documentary,Horror              74.0  \n",
       "Comedy,Documentary,Fantasy             70.0  \n",
       "History,Sport                          91.0  \n",
       "\n",
       "[923 rows x 4 columns]"
      ]
     },
     "execution_count": 261,
     "metadata": {},
     "output_type": "execute_result"
    }
   ],
   "source": [
    "# lets see how popular movies are grouped by genres\n",
    "group_by_genre = imdb_joined.groupby('genres').sum()\n",
    "group_by_genre_sort = group_by_genre.sort_values('numvotes', ascending=False)\n",
    "group_by_genre_sort\n",
    "\n"
   ]
  },
  {
   "cell_type": "code",
   "execution_count": 306,
   "metadata": {},
   "outputs": [
    {
     "data": {
      "image/png": "[encoded data removed]",
      "text/plain": [
       "<Figure size 1296x432 with 1 Axes>"
      ]
     },
     "metadata": {
      "needs_background": "light"
     },
     "output_type": "display_data"
    }
   ],
   "source": [
    "#ploting a horizontal bar graph of the top 5 voted geners genres\n",
    "x= group_by_genre_sort.index[:5]\n",
    "y = (group_by_genre_sort['numvotes']/100).head(5)\n",
    "vote_fig, ax = plt.subplots(figsize=(18, 6))\n",
    "ax.bar(x,y)\n",
    "ax.set_title(\"Top 5 genres sorted vote number\")\n",
    "ax.set_xlabel(\"Number Of Votes\");\n",
    "ax.set_ylabel(\"Genres\");"
   ]
  },
  {
   "cell_type": "code",
   "execution_count": 302,
   "metadata": {},
   "outputs": [
    {
     "data": {
      "image/png": "[encoded data removed]",
      "text/plain": [
       "<Figure size 1296x432 with 1 Axes>"
      ]
     },
     "metadata": {
      "needs_background": "light"
     },
     "output_type": "display_data"
    }
   ],
   "source": [
    "#ploting a horizontal bargraph of the bottom 10 voted geners \n",
    "x= group_by_genre_sort.index[-10:]\n",
    "y = group_by_genre_sort['numvotes'].tail(10)\n",
    "vote_fig, ax = plt.subplots(figsize=(18, 6))\n",
    "ax.barh(x,y)\n",
    "ax.set_title(\"Bottom ten genres sorted vote number\")\n",
    "ax.set_xlabel(\"Number Of Votes\");\n",
    "ax.set_ylabel(\"Genres\");"
   ]
  },
  {
   "cell_type": "code",
   "execution_count": 245,
   "metadata": {},
   "outputs": [
    {
     "data": {
      "text/html": [
       "<div>\n",
       "<style scoped>\n",
       "    .dataframe tbody tr th:only-of-type {\n",
       "        vertical-align: middle;\n",
       "    }\n",
       "\n",
       "    .dataframe tbody tr th {\n",
       "        vertical-align: top;\n",
       "    }\n",
       "\n",
       "    .dataframe thead th {\n",
       "        text-align: right;\n",
       "    }\n",
       "</style>\n",
       "<table border=\"1\" class=\"dataframe\">\n",
       "  <thead>\n",
       "    <tr style=\"text-align: right;\">\n",
       "      <th></th>\n",
       "      <th>domestic_gross</th>\n",
       "      <th>year</th>\n",
       "      <th>averagerating</th>\n",
       "      <th>numvotes</th>\n",
       "      <th>start_year</th>\n",
       "      <th>runtime_minutes</th>\n",
       "    </tr>\n",
       "    <tr>\n",
       "      <th>genres</th>\n",
       "      <th></th>\n",
       "      <th></th>\n",
       "      <th></th>\n",
       "      <th></th>\n",
       "      <th></th>\n",
       "      <th></th>\n",
       "    </tr>\n",
       "  </thead>\n",
       "  <tbody>\n",
       "    <tr>\n",
       "      <th>Action,Adventure,Sci-Fi</th>\n",
       "      <td>9.934900e+09</td>\n",
       "      <td>86609</td>\n",
       "      <td>290.5</td>\n",
       "      <td>17922785</td>\n",
       "      <td>86605</td>\n",
       "      <td>5593.0</td>\n",
       "    </tr>\n",
       "    <tr>\n",
       "      <th>Adventure,Animation,Comedy</th>\n",
       "      <td>9.564989e+09</td>\n",
       "      <td>132941</td>\n",
       "      <td>426.3</td>\n",
       "      <td>7935746</td>\n",
       "      <td>132940</td>\n",
       "      <td>6234.0</td>\n",
       "    </tr>\n",
       "    <tr>\n",
       "      <th>Action,Adventure,Fantasy</th>\n",
       "      <td>3.758400e+09</td>\n",
       "      <td>58435</td>\n",
       "      <td>182.3</td>\n",
       "      <td>7299692</td>\n",
       "      <td>58432</td>\n",
       "      <td>3389.0</td>\n",
       "    </tr>\n",
       "    <tr>\n",
       "      <th>Action,Adventure,Comedy</th>\n",
       "      <td>3.162300e+09</td>\n",
       "      <td>40316</td>\n",
       "      <td>133.5</td>\n",
       "      <td>5645230</td>\n",
       "      <td>40314</td>\n",
       "      <td>2323.0</td>\n",
       "    </tr>\n",
       "    <tr>\n",
       "      <th>Drama</th>\n",
       "      <td>2.382788e+09</td>\n",
       "      <td>179206</td>\n",
       "      <td>578.6</td>\n",
       "      <td>2910995</td>\n",
       "      <td>179211</td>\n",
       "      <td>9129.0</td>\n",
       "    </tr>\n",
       "    <tr>\n",
       "      <th>...</th>\n",
       "      <td>...</td>\n",
       "      <td>...</td>\n",
       "      <td>...</td>\n",
       "      <td>...</td>\n",
       "      <td>...</td>\n",
       "      <td>...</td>\n",
       "    </tr>\n",
       "    <tr>\n",
       "      <th>Action,Horror,Mystery</th>\n",
       "      <td>5.500000e+03</td>\n",
       "      <td>2012</td>\n",
       "      <td>5.1</td>\n",
       "      <td>18206</td>\n",
       "      <td>2012</td>\n",
       "      <td>114.0</td>\n",
       "    </tr>\n",
       "    <tr>\n",
       "      <th>Comedy,Crime,Mystery</th>\n",
       "      <td>5.000000e+03</td>\n",
       "      <td>2011</td>\n",
       "      <td>6.4</td>\n",
       "      <td>30352</td>\n",
       "      <td>2011</td>\n",
       "      <td>87.0</td>\n",
       "    </tr>\n",
       "    <tr>\n",
       "      <th>Comedy,Crime,History</th>\n",
       "      <td>4.800000e+03</td>\n",
       "      <td>2011</td>\n",
       "      <td>6.2</td>\n",
       "      <td>18431</td>\n",
       "      <td>2010</td>\n",
       "      <td>91.0</td>\n",
       "    </tr>\n",
       "    <tr>\n",
       "      <th>Fantasy,Thriller</th>\n",
       "      <td>1.400000e+03</td>\n",
       "      <td>2018</td>\n",
       "      <td>5.7</td>\n",
       "      <td>5010</td>\n",
       "      <td>2018</td>\n",
       "      <td>98.0</td>\n",
       "    </tr>\n",
       "    <tr>\n",
       "      <th>Comedy,Thriller</th>\n",
       "      <td>8.000000e+02</td>\n",
       "      <td>2014</td>\n",
       "      <td>2.1</td>\n",
       "      <td>647</td>\n",
       "      <td>2013</td>\n",
       "      <td>132.0</td>\n",
       "    </tr>\n",
       "  </tbody>\n",
       "</table>\n",
       "<p>242 rows × 6 columns</p>\n",
       "</div>"
      ],
      "text/plain": [
       "                            domestic_gross    year  averagerating  numvotes  \\\n",
       "genres                                                                        \n",
       "Action,Adventure,Sci-Fi       9.934900e+09   86609          290.5  17922785   \n",
       "Adventure,Animation,Comedy    9.564989e+09  132941          426.3   7935746   \n",
       "Action,Adventure,Fantasy      3.758400e+09   58435          182.3   7299692   \n",
       "Action,Adventure,Comedy       3.162300e+09   40316          133.5   5645230   \n",
       "Drama                         2.382788e+09  179206          578.6   2910995   \n",
       "...                                    ...     ...            ...       ...   \n",
       "Action,Horror,Mystery         5.500000e+03    2012            5.1     18206   \n",
       "Comedy,Crime,Mystery          5.000000e+03    2011            6.4     30352   \n",
       "Comedy,Crime,History          4.800000e+03    2011            6.2     18431   \n",
       "Fantasy,Thriller              1.400000e+03    2018            5.7      5010   \n",
       "Comedy,Thriller               8.000000e+02    2014            2.1       647   \n",
       "\n",
       "                            start_year  runtime_minutes  \n",
       "genres                                                   \n",
       "Action,Adventure,Sci-Fi          86605           5593.0  \n",
       "Adventure,Animation,Comedy      132940           6234.0  \n",
       "Action,Adventure,Fantasy         58432           3389.0  \n",
       "Action,Adventure,Comedy          40314           2323.0  \n",
       "Drama                           179211           9129.0  \n",
       "...                                ...              ...  \n",
       "Action,Horror,Mystery             2012            114.0  \n",
       "Comedy,Crime,Mystery              2011             87.0  \n",
       "Comedy,Crime,History              2010             91.0  \n",
       "Fantasy,Thriller                  2018             98.0  \n",
       "Comedy,Thriller                   2013            132.0  \n",
       "\n",
       "[242 rows x 6 columns]"
      ]
     },
     "execution_count": 245,
     "metadata": {},
     "output_type": "execute_result"
    }
   ],
   "source": [
    "# lets see how geners relate to domestic gross mergins\n",
    "group_by_genre_bom = bom_joined.groupby('genres').sum()\n",
    "domestic_gross = group_by_genre_bom.sort_values('domestic_gross', ascending=False)\n",
    "domestic_gross"
   ]
  },
  {
   "cell_type": "code",
   "execution_count": 295,
   "metadata": {},
   "outputs": [
    {
     "data": {
      "image/png": "[encoded data removed]",
      "text/plain": [
       "<Figure size 1008x720 with 1 Axes>"
      ]
     },
     "metadata": {
      "needs_background": "light"
     },
     "output_type": "display_data"
    }
   ],
   "source": [
    "#ploting a lin graph of the top to domestiic gross margin grouuped by genres\n",
    "x= domestic_gross.index[:5]\n",
    "y = (domestic_gross['domestic_gross']/100000).head(5)\n",
    "gross_fig, ax = plt.subplots(figsize=(14, 10))\n",
    "ax.bar(x,y)\n",
    "ax.set_title(\"Top ten genres sorted Domestic Gross\")\n",
    "ax.set_xlabel(\"Gross Domestic value\");\n",
    "ax.set_ylabel(\"Genres\");"
   ]
  },
  {
   "cell_type": "code",
   "execution_count": 288,
   "metadata": {},
   "outputs": [
    {
     "data": {
      "image/png": "[encoded data removed]",
      "text/plain": [
       "<Figure size 1296x432 with 1 Axes>"
      ]
     },
     "metadata": {
      "needs_background": "light"
     },
     "output_type": "display_data"
    }
   ],
   "source": [
    "#ploting a horizontal bargraph of the bottom 10 voted geners \n",
    "x= domestic_gross.index[-10:]\n",
    "y = (domestic_gross['domestic_gross']/10000).tail(10)\n",
    "vote_fig, ax = plt.subplots(figsize=(18, 6))\n",
    "ax.barh(x,y)\n",
    "ax.set_title(\"Bottom ten genres sorted domestic gross\")\n",
    "ax.set_xlabel(\"Number Of Votes\");\n",
    "ax.set_ylabel(\"Genres\");"
   ]
  },
  {
   "cell_type": "markdown",
   "metadata": {},
   "source": [
    "## Evaluation\n",
    "Virtualiozing the films grouped by genre and sorted with the aggrigation of either number of votes or domestic gross value, the genre of movies in the to and bottom are almost the same.\n",
    "<strong>\n",
    "There seem to be a strong impact on the type of genre to both the gross margins and the popularity of a given film\n",
    "    This can help the microsoft team deside which type of movies are suitable to invest in.\n",
    "</strong>\n",
    "\n",
    "<br>\n",
    "Genre therefor plays a very important role in determining the type of film that will have a high profit margin and a positive number of votes from the audience. "
   ]
  },
  {
   "attachments": {},
   "cell_type": "markdown",
   "metadata": {},
   "source": [
    "## Conclusions\n",
    "This analysis led to the following recomendation for the Microsoft studio team\n",
    "\n",
    "***\n",
    "Recomendatoions:\n",
    "* The genre of the movie has a high impact on the success of a film and therefore genres like Action, Adventure, Sci-Fi have a higher chance of performing better than other genres like Comedy, Thrillers\n",
    "\n",
    "* Domestic gross margins and number of votes can be used as a Metrix for measuring the success of a particular film production!\n",
    "***\n",
    "<br>\n",
    "However the corelation that exist between the two values (number of votes and domestic gross) shoulld not be taken individually as the basic measures of sucess since corelation does not normaly mean coausation. Additional variables need  to be considered to support this argument.\n",
    "<br>\n",
    "More movie databases need to be analysed and differnt data sourses and data collection methods should be used to get data and feedback from a larger sample to incease the accuracy of this analysis.\n"
   ]
  },
  {
   "cell_type": "code",
   "execution_count": null,
   "metadata": {},
   "outputs": [],
   "source": []
  }
 ],
 "metadata": {
  "kernelspec": {
   "display_name": "Python 3",
   "language": "python",
   "name": "python3"
  },
  "language_info": {
   "codemirror_mode": {
    "name": "ipython",
    "version": 3
   },
   "file_extension": ".py",
   "mimetype": "text/x-python",
   "name": "python",
   "nbconvert_exporter": "python",
   "pygments_lexer": "ipython3",
   "version": "3.8.8"
  }
 },
 "nbformat": 4,
 "nbformat_minor": 4
}
